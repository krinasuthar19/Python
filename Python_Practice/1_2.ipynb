{
 "cells": [
  {
   "cell_type": "markdown",
   "id": "75ff56aa-9b27-4f02-94d1-fc9eb2b22273",
   "metadata": {},
   "source": [
    "# **1.2**"
   ]
  },
  {
   "cell_type": "code",
   "execution_count": null,
   "id": "8983b5ff-193c-4df6-a949-a766a14a1fc0",
   "metadata": {},
   "outputs": [
    {
     "name": "stdout",
     "output_type": "stream",
     "text": [
      "10 $ 20 $ 30\n",
      "10 Hello "
     ]
    }
   ],
   "source": [
    "#Q1 Write a program to demonstrate different formatting options in print():\n",
    "#- Use sep to separate values with a custom character.\n",
    "#- Use end to customize what appears at the end of a print() statement.\n",
    "\n",
    "a=10\n",
    "b=20\n",
    "c=30\n",
    "\n",
    "print(a,b,c, sep=\" $ \")\n",
    "\n",
    "print(a, end=\" Hello \")"
   ]
  },
  {
   "cell_type": "code",
   "execution_count": null,
   "id": "babbce58-db8c-44aa-9da8-4974ce77e046",
   "metadata": {},
   "outputs": [
    {
     "name": "stdout",
     "output_type": "stream",
     "text": [
      "Enter Name: Krina\n",
      "Enter Age: 19\n",
      "Enter hobby Painting\n"
     ]
    },
    {
     "name": "stdout",
     "output_type": "stream",
     "text": [
      " \"Hello Krina! At 19, enjoying Painting sounds fun\" \n"
     ]
    }
   ],
   "source": [
    "#Q2 Create a program that asks the user for their name, age, and favourite hobby using the input() function,\n",
    "# then displays a formatted message like:\n",
    "# \"Hello, <name>! At <age>, enjoying <hobby> sounds fun!\"\n",
    "\n",
    "name=input(\"Enter Name:\")\n",
    "age=int(input(\"Enter Age:\"))\n",
    "hobby=input(\"Enter hobby\")\n",
    "\n",
    "print(f''' \"Hello {name}! At {age}, enjoying {hobby} sounds fun\" ''')"
   ]
  },
  {
   "cell_type": "code",
   "execution_count": null,
   "id": "1c2983e2-2c06-492e-b89b-400b8be260ba",
   "metadata": {},
   "outputs": [
    {
     "name": "stdout",
     "output_type": "stream",
     "text": [
      "Enter 1st no.: 5\n",
      "Enter 2nd no.: 3\n"
     ]
    },
    {
     "name": "stdout",
     "output_type": "stream",
     "text": [
      "Addition 8\n",
      "Substraction 2\n",
      "Multiplication 15\n",
      "Division 1.6666666666666667\n",
      "Floor Division  1\n",
      "Exponentiation 125\n"
     ]
    }
   ],
   "source": [
    "#Q3 Perform addition, subtraction, multiplication, division, floor division, modulus, and exponentiation on two numbers input by the user.\n",
    "\n",
    "a=int(input(\"Enter 1st no.:\"))\n",
    "b=int(input(\"Enter 2nd no.:\"))\n",
    "\n",
    "print(\"Addition\",a+b)\n",
    "print(\"Substraction\",a-b)\n",
    "print(\"Multiplication\",a*b)\n",
    "print(\"Division\",a/b)\n",
    "print(\"Floor Division \",a//b)\n",
    "print(\"Exponentiation\",a**b)"
   ]
  },
  {
   "cell_type": "code",
   "execution_count": null,
   "id": "5512f26d-bb97-4fe5-ba66-d8dd7ac2b0a7",
   "metadata": {},
   "outputs": [],
   "source": [
    "#Q4 Write a Python program that:\n",
    "#- Declares variables of different datatypes (integer, float, string, boolean, complex, etc.).\n",
    "#- Prints their values and types using the type() function.\n",
    "\n",
    "\n",
    "a=10\n",
    "print(a,type(a)) #int\n",
    "b=28.54\n",
    "print(b,type(b)) #float\n",
    "c=4+8j\n",
    "print(c,type(c)) #complex\n",
    "\n",
    "d='hi'\n",
    "e=\"hello\"\n",
    "f='''123 Hii \"world\" '''\n",
    "g= \"\"\"hiiiii\"\"\"\n",
    "print(d,type(d))\n",
    "print(e,type(e))\n",
    "print(f,type(f))\n",
    "print(g,type(g)) #string\n",
    "\n",
    "h=True\n",
    "i=False\n",
    "print(h,i, type(h)) #bool\n",
    "\n",
    "j=None\n",
    "print(j, type(j)) #none"
   ]
  },
  {
   "cell_type": "code",
   "execution_count": null,
   "id": "47e064b5-86f3-4d5e-9d58-f1454bf5307e",
   "metadata": {},
   "outputs": [
    {
     "name": "stdout",
     "output_type": "stream",
     "text": [
      "Enter Height (feet) 5\n",
      "Enter Weight (Kg) 50\n"
     ]
    },
    {
     "name": "stdout",
     "output_type": "stream",
     "text": [
      "User's Height: 5 ft and Weight:50 kg\n"
     ]
    }
   ],
   "source": [
    "#Q5 Create a program where the user inputs their height and weight.\n",
    "# Store them in appropriately named variables and print a formatted message displaying their values.\n",
    "\n",
    "height=int(input(\"Enter Height (feet)\"))\n",
    "weight=int(input(\"Enter Weight (Kg)\"))\n",
    "print(f\"User's Height: {height} ft and Weight:{weight} kg\")"
   ]
  },
  {
   "cell_type": "code",
   "execution_count": null,
   "id": "bdf22b75-86a1-47d7-a1e7-b209dc7fa327",
   "metadata": {},
   "outputs": [
    {
     "name": "stdout",
     "output_type": "stream",
     "text": [
      "a=True/False? False\n",
      "b=True/False? False\n"
     ]
    },
    {
     "name": "stdout",
     "output_type": "stream",
     "text": [
      "AND: False\n",
      "OR: False\n",
      "NOT A: False\n"
     ]
    }
   ],
   "source": [
    "#Q6 Implement a program to demonstrate logical operators (and, or, not) by asking the user for boolean inputs (e.g., true/false values).\n",
    "\n",
    "a=input(\"a=True/False?\")\n",
    "b=input(\"b=True/False?\")\n",
    "print(\"AND:\",a and b)\n",
    "print(\"OR:\",a or b)\n",
    "print(\"NOT A:\",not a)"
   ]
  },
  {
   "cell_type": "code",
   "execution_count": null,
   "id": "285da87f-aa53-4dc3-a40d-b7b8ea247bf5",
   "metadata": {},
   "outputs": [
    {
     "name": "stdout",
     "output_type": "stream",
     "text": [
      "Addition 15\n",
      "Substraction 12\n",
      "Multiplication 24\n",
      "Division 8.0\n"
     ]
    }
   ],
   "source": [
    "#Q7 Write a program to demonstrate assignment operators (=, +=, -=, *=, /=) using a single variable.\n",
    "\n",
    "a=10\n",
    "a+=5\n",
    "print(\"Addition\",a)\n",
    "a-=3\n",
    "print(\"Substraction\",a)\n",
    "a*=2\n",
    "print(\"Multiplication\",a)\n",
    "a/=3\n",
    "print(\"Division\",a)"
   ]
  }
 ],
 "metadata": {
  "kernelspec": {
   "display_name": "Python 3 (ipykernel)",
   "language": "python",
   "name": "python3"
  },
  "language_info": {
   "codemirror_mode": {
    "name": "ipython",
    "version": 3
   },
   "file_extension": ".py",
   "mimetype": "text/x-python",
   "name": "python",
   "nbconvert_exporter": "python",
   "pygments_lexer": "ipython3",
   "version": "3.13.5"
  }
 },
 "nbformat": 4,
 "nbformat_minor": 5
}
