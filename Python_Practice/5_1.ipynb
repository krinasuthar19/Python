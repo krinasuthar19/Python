{
 "cells": [
  {
   "cell_type": "markdown",
   "id": "9ee9d1e4-492f-4bb0-964d-b0a3b749a3fe",
   "metadata": {},
   "source": [
    "# **5.1**"
   ]
  },
  {
   "cell_type": "code",
   "execution_count": 2,
   "id": "e4d840fa-bf0e-4b68-8506-800114b83b48",
   "metadata": {},
   "outputs": [
    {
     "name": "stdout",
     "output_type": "stream",
     "text": [
      "Krina\n",
      "19\n"
     ]
    }
   ],
   "source": [
    "#Q1 \n",
    "\n",
    "class Person:\n",
    "    name='Krina'\n",
    "    age=19\n",
    "\n",
    "per1=Person()\n",
    "print(per1.name)\n",
    "per2=Person()\n",
    "print(per2.age)"
   ]
  },
  {
   "cell_type": "code",
   "execution_count": 8,
   "id": "97b55aee-26da-4756-baa5-945fbfe45c74",
   "metadata": {},
   "outputs": [
    {
     "name": "stdout",
     "output_type": "stream",
     "text": [
      "1\n",
      "2\n",
      "3\n"
     ]
    }
   ],
   "source": [
    "#Q2 \n",
    "\n",
    "class Counter:\n",
    "    count=0\n",
    "\n",
    "    def dis(self):\n",
    "        self.count=self.count+1\n",
    "        return self.count\n",
    "c=Counter()\n",
    "print(c.dis())\n",
    "print(c.dis())\n",
    "print(c.dis())"
   ]
  },
  {
   "cell_type": "code",
   "execution_count": 12,
   "id": "65249c61-22d4-4101-8f20-3b979529de8f",
   "metadata": {},
   "outputs": [
    {
     "name": "stdout",
     "output_type": "stream",
     "text": [
      "Krina\n",
      "19\n"
     ]
    },
    {
     "ename": "NameError",
     "evalue": "name 'per1' is not defined",
     "output_type": "error",
     "traceback": [
      "\u001b[1;31m---------------------------------------------------------------------------\u001b[0m",
      "\u001b[1;31mNameError\u001b[0m                                 Traceback (most recent call last)",
      "Cell \u001b[1;32mIn[12], line 15\u001b[0m\n\u001b[0;32m     12\u001b[0m \u001b[38;5;28;01mdel\u001b[39;00m per1\n\u001b[0;32m     13\u001b[0m \u001b[38;5;28;01mdel\u001b[39;00m per2\n\u001b[1;32m---> 15\u001b[0m \u001b[38;5;28mprint\u001b[39m(per1\u001b[38;5;241m.\u001b[39mname)\n",
      "\u001b[1;31mNameError\u001b[0m: name 'per1' is not defined"
     ]
    }
   ],
   "source": [
    "#Q3 \n",
    "\n",
    "class Person:\n",
    "    name='Krina'\n",
    "    age=19\n",
    "\n",
    "per1=Person()\n",
    "print(per1.name)\n",
    "per2=Person()\n",
    "print(per2.age)\n",
    "\n",
    "del per1\n",
    "del per2\n",
    "\n",
    "print(per1.name)"
   ]
  },
  {
   "cell_type": "code",
   "execution_count": 17,
   "id": "cd92248a-5971-4a36-8f90-ba50b329b89b",
   "metadata": {},
   "outputs": [
    {
     "ename": "TypeError",
     "evalue": "MyClass.dis() takes 0 positional arguments but 1 was given",
     "output_type": "error",
     "traceback": [
      "\u001b[1;31m---------------------------------------------------------------------------\u001b[0m",
      "\u001b[1;31mTypeError\u001b[0m                                 Traceback (most recent call last)",
      "Cell \u001b[1;32mIn[17], line 8\u001b[0m\n\u001b[0;32m      5\u001b[0m         \u001b[38;5;28mprint\u001b[39m(\u001b[38;5;124m\"\u001b[39m\u001b[38;5;124mHello, I am a method.\u001b[39m\u001b[38;5;124m\"\u001b[39m)\n\u001b[0;32m      7\u001b[0m obj \u001b[38;5;241m=\u001b[39m MyClass()\n\u001b[1;32m----> 8\u001b[0m obj\u001b[38;5;241m.\u001b[39mdis()\n",
      "\u001b[1;31mTypeError\u001b[0m: MyClass.dis() takes 0 positional arguments but 1 was given"
     ]
    }
   ],
   "source": [
    "#Q4 \n",
    "\n",
    "class MyClass:\n",
    "    def dis(): \n",
    "        print(\"Hello, I am a method.\")\n",
    "\n",
    "obj = MyClass()\n",
    "obj.dis()"
   ]
  },
  {
   "cell_type": "code",
   "execution_count": null,
   "id": "2a5301c7-c426-4113-8760-62eecb4e9068",
   "metadata": {},
   "outputs": [],
   "source": [
    "#Q5 \n",
    "\n"
   ]
  }
 ],
 "metadata": {
  "kernelspec": {
   "display_name": "Python 3 (ipykernel)",
   "language": "python",
   "name": "python3"
  },
  "language_info": {
   "codemirror_mode": {
    "name": "ipython",
    "version": 3
   },
   "file_extension": ".py",
   "mimetype": "text/x-python",
   "name": "python",
   "nbconvert_exporter": "python",
   "pygments_lexer": "ipython3",
   "version": "3.13.5"
  }
 },
 "nbformat": 4,
 "nbformat_minor": 5
}
