{
 "cells": [
  {
   "cell_type": "code",
   "execution_count": 3,
   "id": "d5cf3450-bf5a-4e53-b64c-033dfb450216",
   "metadata": {},
   "outputs": [
    {
     "name": "stdout",
     "output_type": "stream",
     "text": [
      "Hello World\n",
      "*\n",
      "* *\n",
      "* * *\n",
      "* *\n",
      "*\n"
     ]
    }
   ],
   "source": [
    "print(\"Hello World\")\n",
    "\n",
    "print(\"*\")\n",
    "print(\"* *\")\n",
    "print(\"* * *\")\n",
    "print(\"* *\")\n",
    "print(\"*\")"
   ]
  }
 ],
 "metadata": {
  "kernelspec": {
   "display_name": "Python 3 (ipykernel)",
   "language": "python",
   "name": "python3"
  },
  "language_info": {
   "codemirror_mode": {
    "name": "ipython",
    "version": 3
   },
   "file_extension": ".py",
   "mimetype": "text/x-python",
   "name": "python",
   "nbconvert_exporter": "python",
   "pygments_lexer": "ipython3",
   "version": "3.13.5"
  }
 },
 "nbformat": 4,
 "nbformat_minor": 5
}
