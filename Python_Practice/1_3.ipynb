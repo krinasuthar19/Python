{
 "cells": [
  {
   "cell_type": "code",
   "execution_count": null,
   "id": "26a7abfe-a239-42e3-a6f8-6528cce96108",
   "metadata": {},
   "outputs": [
    {
     "name": "stdout",
     "output_type": "stream",
     "text": [
      "Enter a value:  29\n"
     ]
    },
    {
     "name": "stdout",
     "output_type": "stream",
     "text": [
      "String value: 29 | Type: <class 'str'>\n",
      "Integer value: 29 | Type: <class 'int'>\n",
      "Float value: 29.0 | Type: <class 'float'>\n",
      "Boolean value: True | Type: <class 'bool'>\n"
     ]
    }
   ],
   "source": [
    "#Q1 Write a Python program to demonstrate the use of type casting constructors (int(), float(), str(), and bool()):\n",
    "#- Take input from the user as a string.\n",
    "#- Convert the string into an integer, a float, and a boolean.\n",
    "#- Print the converted values along with their types.\n",
    "\n",
    "user_input = input(\"Enter a value: \")\n",
    "\n",
    "int_value = int(user_input)\n",
    "float_value = float(user_input)\n",
    "bool_value = bool(user_input)\n",
    "str_value = str(user_input)\n",
    "\n",
    "print(\"String value:\", str_value, \"| Type:\", type(str_value))\n",
    "print(\"Integer value:\", int_value, \"| Type:\", type(int_value))\n",
    "print(\"Float value:\", float_value, \"| Type:\", type(float_value))\n",
    "print(\"Boolean value:\", bool_value, \"| Type:\", type(bool_value))\n"
   ]
  },
  {
   "cell_type": "code",
   "execution_count": null,
   "id": "453228b1-ba83-4683-9bbc-dea9804db912",
   "metadata": {},
   "outputs": [
    {
     "name": "stdout",
     "output_type": "stream",
     "text": [
      "Enter a float value:  2.5\n"
     ]
    },
    {
     "name": "stdout",
     "output_type": "stream",
     "text": [
      "Float value: 2.5\n",
      "Integer value after conversion: 2\n",
      "\n",
      "Explanation: When a float is converted to an integer, the decimal part is removed (truncated), not rounded.\n"
     ]
    }
   ],
   "source": [
    "#Q2 Write a program where the user inputs a floating-point number.\n",
    "#- Convert this number into an integer using int() and print both values with a message explaining the difference.\n",
    "\n",
    "\n",
    "float_value = float(input(\"Enter a float value: \"))\n",
    "int_value = int(float_value)\n",
    "\n",
    "print(\"Float value:\", float_value)\n",
    "print(\"Integer value after conversion:\", int_value)\n",
    "print(\"\\nExplanation: When a float is converted to an integer, the decimal part is removed (truncated), not rounded.\")\n"
   ]
  },
  {
   "cell_type": "code",
   "execution_count": null,
   "id": "e6ff413c-76f2-4fc1-9575-546088c3e4de",
   "metadata": {},
   "outputs": [
    {
     "name": "stdout",
     "output_type": "stream",
     "text": [
      "Enter a boolean value (True or False):  False\n"
     ]
    },
    {
     "name": "stdout",
     "output_type": "stream",
     "text": [
      "\n",
      "--- Conversion Results ---\n",
      "Boolean value: False | Type: <class 'bool'>\n",
      "Integer value: 0 | Type: <class 'int'>\n",
      "String value: False | Type: <class 'str'>\n"
     ]
    }
   ],
   "source": [
    "#Q3 Create a program that:\n",
    "#- Takes a boolean value (True or False) as input.\n",
    "#- Converts the boolean to an integer and a string, and prints all three values.\n",
    "\n",
    "\n",
    "user_input = input(\"Enter a boolean value (True or False): \")\n",
    "bool_value = user_input == \"True\"\n",
    "int_value = int(bool_value)\n",
    "str_value = str(bool_value)\n",
    "\n",
    "print(\"\\n--- Conversion Results ---\")\n",
    "print(\"Boolean value:\", bool_value, \"| Type:\", type(bool_value))\n",
    "print(\"Integer value:\", int_value, \"| Type:\", type(int_value))\n",
    "print(\"String value:\", str_value, \"| Type:\", type(str_value))\n"
   ]
  },
  {
   "cell_type": "code",
   "execution_count": null,
   "id": "8b79d948-7b92-450b-9b8c-d3ecd8d9d921",
   "metadata": {},
   "outputs": [
    {
     "name": "stdout",
     "output_type": "stream",
     "text": [
      "10 <class 'int'>\n",
      "28.54 <class 'float'>\n",
      "(4+8j) <class 'complex'>\n",
      "hi <class 'str'>\n",
      "hello <class 'str'>\n",
      "123 Hii \"world\"  <class 'str'>\n",
      "hiiiii <class 'str'>\n",
      "True False <class 'bool'>\n",
      "None <class 'NoneType'>\n",
      "[10, 3, 'hi', 45, 2.5, True, (4+9j), 10] <class 'list'>\n",
      "(1, 4.5, 'hello') <class 'tuple'>\n",
      "{1: 'one', 3: 'three', 'City': 'Ahm'} <class 'dict'>\n",
      "Ahm\n",
      "{2, 'Hello', ('hi', 'a'), 6.7} <class 'set'>\n"
     ]
    }
   ],
   "source": [
    "#Q4 Write a Python program to:\n",
    "#- Declare a variable of each datatype (integer, float, string, boolean, list, tuple, dictionary).\n",
    "#- Print the value, type (using type()), and memory address (using id()) of each variable.\n",
    "\n",
    "\n",
    "a=10\n",
    "print(a,type(a)) #int\n",
    "b=28.54\n",
    "print(b,type(b)) #float\n",
    "c=4+8j\n",
    "print(c,type(c)) #complex\n",
    "\n",
    "d='hi'\n",
    "e=\"hello\"\n",
    "f='''123 Hii \"world\" '''\n",
    "g= \"\"\"hiiiii\"\"\"\n",
    "print(d,type(d))\n",
    "print(e,type(e))\n",
    "print(f,type(f))\n",
    "print(g,type(g)) #string\n",
    "\n",
    "h=True\n",
    "i=False\n",
    "print(h,i, type(h)) #bool\n",
    "\n",
    "j=None\n",
    "print(j, type(j)) #none\n",
    "\n",
    "# list\n",
    "k=[10,3,\"hi\",45,2.5, True, 4+9j,10]\n",
    "print(k,type(k))\n",
    "\n",
    "# tuple\n",
    "l=(1,4.5,\"hello\")\n",
    "print(l,type(l))\n",
    "\n",
    "# dictionary\n",
    "m={1:\"one\", 3:\"three\", \"City\":\"Ahm\"}\n",
    "print(m,type(m))\n",
    "print(m['City'])\n",
    "\n",
    "# Set\n",
    "n={2,6.7,\"Hello\",(\"hi\",\"a\")}\n",
    "print(n,type(n))"
   ]
  },
  {
   "cell_type": "code",
   "execution_count": null,
   "id": "97b9fea5-4ba4-4262-b136-632fa04f4f1f",
   "metadata": {},
   "outputs": [
    {
     "name": "stdout",
     "output_type": "stream",
     "text": [
      "140727105008680\n",
      "140727105008680\n",
      "True\n",
      "140727105008840\n",
      "False\n"
     ]
    }
   ],
   "source": [
    "#Q5 Create a program that:\n",
    "#- Declares two variables with the same value.\n",
    "#- Prints their memory addresses using id() and checks if they are the same.\n",
    "#- Modifies one of the variables and checks the memory addresses again.\n",
    "\n",
    "a=5\n",
    "b=5\n",
    "print(id(a))\n",
    "print(id(b))\n",
    "print(a==b)\n",
    "b=10\n",
    "print(id(b))\n",
    "print(a==b)"
   ]
  }
 ],
 "metadata": {
  "kernelspec": {
   "display_name": "Python 3 (ipykernel)",
   "language": "python",
   "name": "python3"
  },
  "language_info": {
   "codemirror_mode": {
    "name": "ipython",
    "version": 3
   },
   "file_extension": ".py",
   "mimetype": "text/x-python",
   "name": "python",
   "nbconvert_exporter": "python",
   "pygments_lexer": "ipython3",
   "version": "3.13.5"
  }
 },
 "nbformat": 4,
 "nbformat_minor": 5
}
