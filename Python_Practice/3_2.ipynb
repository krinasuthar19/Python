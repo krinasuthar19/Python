{
 "cells": [
  {
   "cell_type": "markdown",
   "id": "d4dc395b-05e8-4f73-ba86-db50af1667f5",
   "metadata": {},
   "source": [
    "# **3.2**"
   ]
  },
  {
   "cell_type": "code",
   "execution_count": 2,
   "id": "95f2d3f1-e95f-4e1c-b4df-db3f6f75cc68",
   "metadata": {},
   "outputs": [
    {
     "name": "stdout",
     "output_type": "stream",
     "text": [
      "Second Fruit: Banana\n",
      "Last Fruit: Pineapple\n",
      "Sorted List: ['Banana', 'Grapes', 'Mango', 'Orange', 'Pineapple']\n",
      "Reversed List: ['Pineapple', 'Orange', 'Mango', 'Grapes', 'Banana']\n"
     ]
    }
   ],
   "source": [
    "#Q1 Create a list of 5 fruits. Print the second and last fruit.\n",
    "#- Add \"Mango\" to the list. Remove the first element.\n",
    "#- Sort the list alphabetically. Reverse it.\n",
    "\n",
    "fruits = [\"Apple\", \"Banana\", \"Grapes\", \"Orange\", \"Pineapple\"]\n",
    "print(\"Second Fruit:\", fruits[1])\n",
    "print(\"Last Fruit:\", fruits[-1])\n",
    "\n",
    "fruits.append(\"Mango\")\n",
    "\n",
    "fruits.pop(0)\n",
    "\n",
    "fruits.sort()\n",
    "print(\"Sorted List:\", fruits)\n",
    "\n",
    "fruits.reverse()\n",
    "print(\"Reversed List:\", fruits)\n"
   ]
  },
  {
   "cell_type": "code",
   "execution_count": 4,
   "id": "8ce1ec52-7afc-4329-8f8c-53fcd7d70ce0",
   "metadata": {},
   "outputs": [
    {
     "ename": "NameError",
     "evalue": "name 'numbers' is not defined",
     "output_type": "error",
     "traceback": [
      "\u001b[1;31m---------------------------------------------------------------------------\u001b[0m",
      "\u001b[1;31mNameError\u001b[0m                                 Traceback (most recent call last)",
      "Cell \u001b[1;32mIn[4], line 5\u001b[0m\n\u001b[0;32m      1\u001b[0m \u001b[38;5;66;03m#Q2 Create a tuple of 5 numbers. Access the third item in the tuple. \u001b[39;00m\n\u001b[0;32m      2\u001b[0m \u001b[38;5;66;03m#- Try to change the second value and observe the result. (Explain mutability.)\u001b[39;00m\n\u001b[0;32m      4\u001b[0m num \u001b[38;5;241m=\u001b[39m (\u001b[38;5;241m10\u001b[39m, \u001b[38;5;241m20\u001b[39m, \u001b[38;5;241m30\u001b[39m, \u001b[38;5;241m40\u001b[39m, \u001b[38;5;241m50\u001b[39m)\n\u001b[1;32m----> 5\u001b[0m \u001b[38;5;28mprint\u001b[39m(\u001b[38;5;124m\"\u001b[39m\u001b[38;5;124mThird item:\u001b[39m\u001b[38;5;124m\"\u001b[39m, numbers[\u001b[38;5;241m2\u001b[39m])\n\u001b[0;32m      7\u001b[0m num[\u001b[38;5;241m1\u001b[39m] \u001b[38;5;241m=\u001b[39m \u001b[38;5;241m5\u001b[39m\n",
      "\u001b[1;31mNameError\u001b[0m: name 'numbers' is not defined"
     ]
    }
   ],
   "source": [
    "#Q2 Create a tuple of 5 numbers. Access the third item in the tuple. \n",
    "#- Try to change the second value and observe the result. (Explain mutability.)\n",
    "\n",
    "num = (10, 20, 30, 40, 50)\n",
    "print(\"Third item:\", numbers[2])\n",
    "\n",
    "num[1] = 5 #Error\n"
   ]
  },
  {
   "cell_type": "code",
   "execution_count": 5,
   "id": "35c4b3eb-e8bc-4ac6-ab40-76cb6ee4ca0b",
   "metadata": {},
   "outputs": [
    {
     "ename": "NameError",
     "evalue": "name 'my_list' is not defined",
     "output_type": "error",
     "traceback": [
      "\u001b[1;31m---------------------------------------------------------------------------\u001b[0m",
      "\u001b[1;31mNameError\u001b[0m                                 Traceback (most recent call last)",
      "Cell \u001b[1;32mIn[5], line 9\u001b[0m\n\u001b[0;32m      6\u001b[0m tup \u001b[38;5;241m=\u001b[39m (\u001b[38;5;241m10\u001b[39m, \u001b[38;5;241m20\u001b[39m, \u001b[38;5;241m30\u001b[39m)\n\u001b[0;32m      8\u001b[0m li[\u001b[38;5;241m0\u001b[39m] \u001b[38;5;241m=\u001b[39m \u001b[38;5;241m5\u001b[39m\n\u001b[1;32m----> 9\u001b[0m \u001b[38;5;28mprint\u001b[39m(\u001b[38;5;124m\"\u001b[39m\u001b[38;5;124mUpdated List:\u001b[39m\u001b[38;5;124m\"\u001b[39m, my_list)\n\u001b[0;32m     11\u001b[0m tup[\u001b[38;5;241m0\u001b[39m] \u001b[38;5;241m=\u001b[39m \u001b[38;5;241m5\u001b[39m\n",
      "\u001b[1;31mNameError\u001b[0m: name 'my_list' is not defined"
     ]
    }
   ],
   "source": [
    "#Q3 Create a list and a tuple both containing the same 3 items.\n",
    "#- Try changing the first item of each.\n",
    "#Discuss the error (in case of tuple) and explain why it happens.\n",
    "\n",
    "li = [10, 20, 30]\n",
    "tup = (10, 20, 30)\n",
    "\n",
    "li[0] = 5\n",
    "print(\"Updated List:\", my_list)\n",
    "\n",
    "tup[0] = 5 #error"
   ]
  },
  {
   "cell_type": "code",
   "execution_count": 6,
   "id": "4b44b73d-072a-4465-8d80-123c7895faa9",
   "metadata": {},
   "outputs": [
    {
     "name": "stdout",
     "output_type": "stream",
     "text": [
      "Squares: [1, 4, 9, 16, 25, 36, 49, 64, 81, 100]\n",
      "Even Numbers: [2, 4, 6, 8, 10, 12, 14, 16, 18, 20]\n",
      "Lowercase Words: ['hello', 'world', 'python']\n"
     ]
    }
   ],
   "source": [
    "#Q4 Create a list of squares of numbers from 1 to 10 using list comprehension.\n",
    "#-Create a new list that only contains even numbers from a given list [1,2,3,...,20].\n",
    "#-Convert all strings in a list [\"hello\", \"WORLD\", \"PyThOn\"] to lowercase using list comprehension.\n",
    "\n",
    "squares = [x**2 for x in range(1, 11)]\n",
    "print(\"Squares:\", squares)\n",
    "\n",
    "evens = [x for x in range(1, 21) if x % 2 == 0]\n",
    "print(\"Even Numbers:\", evens)\n",
    "\n",
    "words = [\"hello\", \"WORLD\", \"PyThOn\"]\n",
    "lowercase_words = [w.lower() for w in words]\n",
    "print(\"Lowercase Words:\", lowercase_words)\n"
   ]
  }
 ],
 "metadata": {
  "kernelspec": {
   "display_name": "Python 3 (ipykernel)",
   "language": "python",
   "name": "python3"
  },
  "language_info": {
   "codemirror_mode": {
    "name": "ipython",
    "version": 3
   },
   "file_extension": ".py",
   "mimetype": "text/x-python",
   "name": "python",
   "nbconvert_exporter": "python",
   "pygments_lexer": "ipython3",
   "version": "3.13.5"
  }
 },
 "nbformat": 4,
 "nbformat_minor": 5
}
