{
 "cells": [
  {
   "cell_type": "markdown",
   "id": "7da59da0-0a66-4917-8b1e-92069fd68310",
   "metadata": {},
   "source": [
    "# **4.2**"
   ]
  },
  {
   "cell_type": "code",
   "execution_count": 1,
   "id": "69ecbf4f-d354-4a8e-93bb-08c1e17afd85",
   "metadata": {},
   "outputs": [
    {
     "name": "stdin",
     "output_type": "stream",
     "text": [
      "Enter a number:  4\n"
     ]
    },
    {
     "name": "stdout",
     "output_type": "stream",
     "text": [
      "Factorial: 24\n"
     ]
    }
   ],
   "source": [
    "#Q1 Write a recursive function to calculate the factorial of a given number. \n",
    "#- Ensure the program handles edge cases (e.g., negative inputs).\n",
    "\n",
    "def factorial(n):\n",
    "    if n < 0:\n",
    "        return \"Factorial not defined for negative numbers\"\n",
    "    elif n == 0 or n == 1:\n",
    "        return 1\n",
    "    else:\n",
    "        return n * factorial(n-1)\n",
    "\n",
    "num = int(input(\"Enter a number: \"))\n",
    "print(\"Factorial:\", factorial(num))\n"
   ]
  },
  {
   "cell_type": "code",
   "execution_count": 2,
   "id": "990dedf0-adda-4e4f-af05-d94032b1ca11",
   "metadata": {},
   "outputs": [
    {
     "name": "stdout",
     "output_type": "stream",
     "text": [
      "Fibonacci(0) = 0\n",
      "Fibonacci(1) = 1\n",
      "Fibonacci(2) = 1\n",
      "Fibonacci(3) = 2\n",
      "Fibonacci(4) = 3\n",
      "Fibonacci(5) = 5\n",
      "Fibonacci(6) = 8\n",
      "Fibonacci(7) = 13\n"
     ]
    }
   ],
   "source": [
    "#Q2 Implement a recursive function to calculate the nth Fibonacci number. - Test the function with various inputs.\n",
    "\n",
    "def fibonacci(n):\n",
    "    if n < 0:\n",
    "        return \"Fibonacci not defined for negative numbers\"\n",
    "    elif n == 0:\n",
    "        return 0\n",
    "    elif n == 1:\n",
    "        return 1\n",
    "    else:\n",
    "        return fibonacci(n-1) + fibonacci(n-2)\n",
    "\n",
    "for i in range(8):\n",
    "    print(f\"Fibonacci({i}) =\", fibonacci(i))"
   ]
  },
  {
   "cell_type": "code",
   "execution_count": 4,
   "id": "740de9bb-53d4-4ef7-a8a5-2164492c3fe3",
   "metadata": {},
   "outputs": [
    {
     "name": "stdin",
     "output_type": "stream",
     "text": [
      "Enter a string:  Krina\n"
     ]
    },
    {
     "name": "stdout",
     "output_type": "stream",
     "text": [
      "Reversed string: anirK\n"
     ]
    }
   ],
   "source": [
    "#Q3 Develop a program using recursion to reverse a string.\n",
    "\n",
    "def reverse_string(s):\n",
    "    if len(s) == 0:\n",
    "        return s\n",
    "    else:\n",
    "        return reverse_string(s[1:]) + s[0]\n",
    "\n",
    "text = input(\"Enter a string: \")\n",
    "print(\"Reversed string:\", reverse_string(text))"
   ]
  },
  {
   "cell_type": "code",
   "execution_count": null,
   "id": "dddcdb09-6fbb-4d14-9e0e-7f8758f91b90",
   "metadata": {},
   "outputs": [],
   "source": [
    "#Q4 "
   ]
  }
 ],
 "metadata": {
  "kernelspec": {
   "display_name": "Python 3 (ipykernel)",
   "language": "python",
   "name": "python3"
  },
  "language_info": {
   "codemirror_mode": {
    "name": "ipython",
    "version": 3
   },
   "file_extension": ".py",
   "mimetype": "text/x-python",
   "name": "python",
   "nbconvert_exporter": "python",
   "pygments_lexer": "ipython3",
   "version": "3.13.5"
  }
 },
 "nbformat": 4,
 "nbformat_minor": 5
}
