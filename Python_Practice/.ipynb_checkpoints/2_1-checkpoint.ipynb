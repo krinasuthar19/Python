{
 "cells": [
  {
   "cell_type": "markdown",
   "id": "ffe90653-f479-4e56-8f8e-6cb4829a7ae9",
   "metadata": {},
   "source": [
    "# **2.1**"
   ]
  },
  {
   "cell_type": "code",
   "execution_count": 2,
   "id": "c12e5c99-fad9-434e-b146-418e3f722181",
   "metadata": {},
   "outputs": [
    {
     "name": "stdin",
     "output_type": "stream",
     "text": [
      "Enter a number:  4\n"
     ]
    },
    {
     "name": "stdout",
     "output_type": "stream",
     "text": [
      "4 is Even\n"
     ]
    }
   ],
   "source": [
    "#Q1 Write a Python program to:\n",
    "#-Take a number as input from the user.\n",
    "#-Use an `if-else` statement to check if the number is even or odd and print the result.\n",
    "\n",
    "num = int(input(\"Enter a number: \"))\n",
    "\n",
    "if num % 2 == 0:\n",
    "    print(f\"{num} is Even\")\n",
    "else:\n",
    "    print(f\"{num} is Odd\")\n"
   ]
  },
  {
   "cell_type": "code",
   "execution_count": 3,
   "id": "2429ea73-07e4-41c4-b9fa-82c4b88917cf",
   "metadata": {},
   "outputs": [
    {
     "name": "stdin",
     "output_type": "stream",
     "text": [
      "Enter your age:  19\n"
     ]
    },
    {
     "name": "stdout",
     "output_type": "stream",
     "text": [
      "You are a Teenager.\n"
     ]
    }
   ],
   "source": [
    "#Q2 Create a program that:\n",
    "#Accepts a user's age as input.\n",
    "#Uses nested 'if-else` statements to categorize the user into age groups:\n",
    "# - Child (0-12)\n",
    "# - Teenager (13-19)\n",
    "# - Adult (20-59)\n",
    "# - Senior (60+)\n",
    "\n",
    "age = int(input(\"Enter your age: \"))\n",
    "\n",
    "if age >= 0:\n",
    "    if age <= 12:\n",
    "        print(\"You are a Child.\")\n",
    "    elif age <= 19:\n",
    "        print(\"You are a Teenager.\")\n",
    "    elif age <= 59:\n",
    "        print(\"You are an Adult.\")\n",
    "    else:\n",
    "        print(\"You are a Senior.\")\n",
    "else:\n",
    "    print(\"Invalid age entered.\")\n"
   ]
  },
  {
   "cell_type": "code",
   "execution_count": 4,
   "id": "1e444fa6-f841-4cb5-834f-cc99f78b9526",
   "metadata": {},
   "outputs": [
    {
     "name": "stdin",
     "output_type": "stream",
     "text": [
      "Enter first number:  4\n",
      "Enter second number:  7\n",
      "Enter third number:  10\n"
     ]
    },
    {
     "name": "stdout",
     "output_type": "stream",
     "text": [
      "The largest number is: 10\n"
     ]
    }
   ],
   "source": [
    "#Q3 Implement a program that:\n",
    "# Takes three integers as input.\n",
    "# Uses an `if-elif-else` statement to find and print the largest number.\n",
    "\n",
    "a = int(input(\"Enter first number: \"))\n",
    "b = int(input(\"Enter second number: \"))\n",
    "c = int(input(\"Enter third number: \"))\n",
    "\n",
    "if a >= b and a >= c:\n",
    "    print(f\"The largest number is: {a}\")\n",
    "elif b >= a and b >= c:\n",
    "    print(f\"The largest number is: {b}\")\n",
    "else:\n",
    "    print(f\"The largest number is: {c}\")\n"
   ]
  },
  {
   "cell_type": "code",
   "execution_count": null,
   "id": "2941accb-ff63-44fb-8321-56d8871d4290",
   "metadata": {},
   "outputs": [],
   "source": [
    "#Q4 Write a Python program to:\n",
    "#-Take a number as input from the user and check whether it is a neutral number or not using a ladder if statement.\n",
    "\n",
    "num = int(input(\"Enter a number: \"))\n",
    "\n",
    "if num == 0:\n",
    "    print(\"The number is neutral.\")\n",
    "elif num > 0:\n",
    "    print(\"The number is positive.\")\n",
    "else:\n",
    "    print(\"The number is negative.\")\n"
   ]
  }
 ],
 "metadata": {
  "kernelspec": {
   "display_name": "Python 3 (ipykernel)",
   "language": "python",
   "name": "python3"
  },
  "language_info": {
   "codemirror_mode": {
    "name": "ipython",
    "version": 3
   },
   "file_extension": ".py",
   "mimetype": "text/x-python",
   "name": "python",
   "nbconvert_exporter": "python",
   "pygments_lexer": "ipython3",
   "version": "3.13.5"
  }
 },
 "nbformat": 4,
 "nbformat_minor": 5
}
