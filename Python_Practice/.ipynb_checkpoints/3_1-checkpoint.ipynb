{
 "cells": [
  {
   "cell_type": "markdown",
   "id": "80dbcd5d-4690-4456-af8b-da4e313b6087",
   "metadata": {},
   "source": [
    "# **3.1**"
   ]
  },
  {
   "cell_type": "code",
   "execution_count": 1,
   "id": "d658cf70-8c12-4258-97c8-e33c697023a9",
   "metadata": {},
   "outputs": [
    {
     "name": "stdin",
     "output_type": "stream",
     "text": [
      "Enter your first name:  Krina\n",
      "Enter your last name:  Suthar\n"
     ]
    },
    {
     "name": "stdout",
     "output_type": "stream",
     "text": [
      "Hello, Suthar, Krina!\n"
     ]
    }
   ],
   "source": [
    "#Q1 Write a Python program to: \n",
    "#-Take a user's first name and last name as input. \n",
    "#-Print them in the format: Hello, [Last Name], [First Name]!\n",
    "\n",
    "fname = input(\"Enter your first name: \")\n",
    "lname = input(\"Enter your last name: \")\n",
    "print(f\"Hello, {lname}, {fname}!\")"
   ]
  },
  {
   "cell_type": "code",
   "execution_count": 5,
   "id": "08dd8358-ee28-4028-9762-c9b8345548c2",
   "metadata": {},
   "outputs": [
    {
     "name": "stdout",
     "output_type": "stream",
     "text": [
      "The price of apple is 5.5 dollars.\n"
     ]
    }
   ],
   "source": [
    "#Q2 Create a program to:\n",
    "#- Format and display the following sentence: \"The price of {item} is {price} dollars.\"\n",
    "#- Replace {item} with \"apple\" and {price} with 5.50 using f-strings.\n",
    "\n",
    "item = \"apple\"\n",
    "price = 5.50\n",
    "print(f\"The price of {item} is {price} dollars.\")"
   ]
  },
  {
   "cell_type": "code",
   "execution_count": 6,
   "id": "8a5e41ed-fd5e-4d83-9cb8-95397db0a54d",
   "metadata": {},
   "outputs": [
    {
     "name": "stdin",
     "output_type": "stream",
     "text": [
      "Enter a string:  madam\n"
     ]
    },
    {
     "name": "stdout",
     "output_type": "stream",
     "text": [
      "Reversed String: madam\n",
      "It is a palindrome.\n"
     ]
    }
   ],
   "source": [
    "#Q3 Implement a program to:\n",
    "#- Take a string as input.\n",
    "#-Print the string reversed, and also print whether it is a palindrome.\n",
    "\n",
    "text = input(\"Enter a string: \")\n",
    "rev_text = text[::-1]\n",
    "print(\"Reversed String:\", rev_text)\n",
    "\n",
    "if text == rev_text:\n",
    "    print(\"It is a palindrome.\")\n",
    "else:\n",
    "    print(\"It is not a palindrome.\")\n"
   ]
  },
  {
   "cell_type": "code",
   "execution_count": 7,
   "id": "e37d4bc8-9f04-4be4-b846-1b03711ddd57",
   "metadata": {},
   "outputs": [
    {
     "name": "stdin",
     "output_type": "stream",
     "text": [
      "Enter a string:  Hello\n"
     ]
    },
    {
     "name": "stdout",
     "output_type": "stream",
     "text": [
      "Uppercase: HELLO\n",
      "Lowercase: hello\n",
      "Title Case: Hello\n"
     ]
    }
   ],
   "source": [
    "#Q4 Create a program that:\n",
    "#-Takes a string input from the user.\n",
    "#-Converts the string to uppercase, lowercase, and title case.\n",
    "\n",
    "text = input(\"Enter a string: \")\n",
    "\n",
    "print(\"Uppercase:\", text.upper())\n",
    "print(\"Lowercase:\", text.lower())\n",
    "print(\"Title Case:\", text.title())"
   ]
  },
  {
   "cell_type": "code",
   "execution_count": 9,
   "id": "ef40cfd9-6bc8-46c1-9c13-67189cec3795",
   "metadata": {},
   "outputs": [
    {
     "name": "stdout",
     "output_type": "stream",
     "text": [
      "Position of 'AI': 21\n",
      "Replacement: Machine Learning and Artificial Intelligence are trending\n",
      "Count of 'data': 3\n"
     ]
    }
   ],
   "source": [
    "#Q5 Find the position of the word \"AI\" in the sentence \"Machine Learning and AI are trending\".\n",
    "#-Replace \"AI\" with \"Artificial Intelligence\" in the above sentence.\n",
    "#-Count how many times the word \"data\" appears in \"data data mining and big data\".\n",
    "\n",
    "a = \"Machine Learning and AI are trending\"\n",
    "pos = a.find(\"AI\")\n",
    "print(\"Position of 'AI':\", pos)\n",
    "b = a.replace(\"AI\", \"Artificial Intelligence\")\n",
    "print(\"Replacement:\", b)\n",
    "\n",
    "c = \"data data mining and big data\"\n",
    "count = c.count(\"data\")\n",
    "print(\"Count of 'data':\", count)\n"
   ]
  },
  {
   "cell_type": "code",
   "execution_count": 14,
   "id": "7f0c557f-17a0-4261-a5fb-c84191e18bc0",
   "metadata": {},
   "outputs": [
    {
     "name": "stdout",
     "output_type": "stream",
     "text": [
      "List: ['apple', 'banana', 'grapes']\n",
      "Python is awesome\n",
      "Lines:\n",
      "Python is powerful\n",
      "It is easy to learn\n",
      "AI loves Python\n"
     ]
    }
   ],
   "source": [
    "#Q6 Split \"apple, banana, grapes\" into a list.\n",
    "#- Join the list [\"Python\", \"is\", \"awesome\"] into a sentence using spaces.\n",
    "#- Split a multiline string into separate lines and print them one by one.\n",
    "\n",
    "fruits = \"apple, banana, grapes\"\n",
    "print(\"List:\", fruits.split(\", \"))\n",
    "\n",
    "Li = [\"Python\", \"is\", \"awesome\"]\n",
    "print(\" \".join(words))\n",
    "\n",
    "multiline = \"\"\"Python is powerful\n",
    "It is easy to learn\n",
    "AI loves Python\"\"\"\n",
    "lines = multiline.splitlines()\n",
    "\n",
    "print(\"Lines:\")\n",
    "for line in lines:\n",
    "    print(line)\n"
   ]
  },
  {
   "cell_type": "code",
   "execution_count": 16,
   "id": "3e5e5fcc-e7a4-4122-b590-afde6f134eae",
   "metadata": {},
   "outputs": [
    {
     "name": "stdout",
     "output_type": "stream",
     "text": [
      "Starts with 'Hello': True\n",
      "Ends with 'World': True\n",
      "Only Alphabets: DataScience\n",
      "Reversed String: nohtyP\n"
     ]
    }
   ],
   "source": [
    "#Q7 Check if a string starts with \"Hello\" and ends with \"World\".\n",
    "#- Remove all non-alphabetic characters from \"Data123#Science!\".\n",
    "#- Reverse the string \"Python\".\n",
    "\n",
    "text = \"Hello everyone, Welcome to the World\"\n",
    "print(\"Starts with 'Hello':\", text.startswith(\"Hello\"))\n",
    "print(\"Ends with 'World':\", text.endswith(\"World\"))\n",
    "\n",
    "data = \"Data123#Science!\"\n",
    "cleaned = \"\".join(ch for ch in data if ch.isalpha())\n",
    "print(\"Only Alphabets:\", cleaned)\n",
    "\n",
    "word = \"Python\"\n",
    "reversed_word = word[::-1]\n",
    "print(\"Reversed String:\", reversed_word)\n"
   ]
  }
 ],
 "metadata": {
  "kernelspec": {
   "display_name": "Python 3 (ipykernel)",
   "language": "python",
   "name": "python3"
  },
  "language_info": {
   "codemirror_mode": {
    "name": "ipython",
    "version": 3
   },
   "file_extension": ".py",
   "mimetype": "text/x-python",
   "name": "python",
   "nbconvert_exporter": "python",
   "pygments_lexer": "ipython3",
   "version": "3.13.5"
  }
 },
 "nbformat": 4,
 "nbformat_minor": 5
}
