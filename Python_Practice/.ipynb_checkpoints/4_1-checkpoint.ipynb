{
 "cells": [
  {
   "cell_type": "markdown",
   "id": "5465ef0c-6f0f-43de-89e8-84c571cbacf3",
   "metadata": {},
   "source": [
    "# **4.1**"
   ]
  },
  {
   "cell_type": "code",
   "execution_count": 1,
   "id": "f8fb4f0c-3de9-4f7e-a63d-773b0ae00680",
   "metadata": {},
   "outputs": [
    {
     "name": "stdout",
     "output_type": "stream",
     "text": [
      "Length: 5\n",
      "Maximum: 21\n",
      "Sorted: [3, 5, 8, 12, 21]\n",
      "Sum: 49\n",
      "Type: <class 'list'>\n"
     ]
    }
   ],
   "source": [
    "#Q1 Write a Python program that uses at least five built-in functions\n",
    "#(e.g., len(), max(), sorted(), sum(), and type()) to perform operations on a list of numbers.\n",
    "\n",
    "numbers = [12, 5, 8, 21, 3]\n",
    "\n",
    "print(\"Length:\", len(numbers))\n",
    "print(\"Maximum:\", max(numbers))\n",
    "print(\"Sorted:\", sorted(numbers))\n",
    "print(\"Sum:\", sum(numbers))\n",
    "print(\"Type:\", type(numbers))"
   ]
  },
  {
   "cell_type": "code",
   "execution_count": 2,
   "id": "a144e019-b526-4dda-b079-5574659c8624",
   "metadata": {},
   "outputs": [
    {
     "name": "stdin",
     "output_type": "stream",
     "text": [
      "Enter a number:  5\n"
     ]
    },
    {
     "name": "stdout",
     "output_type": "stream",
     "text": [
      "Factorial: 120\n"
     ]
    }
   ],
   "source": [
    "#Q2 Create a user-defined function (UDF) that calculates the factorial of a given number.\n",
    "\n",
    "def factorial(n):\n",
    "    result = 1\n",
    "    for i in range(1, n+1):\n",
    "        result *= i\n",
    "    return result\n",
    "\n",
    "num = int(input(\"Enter a number: \"))\n",
    "print(\"Factorial:\", factorial(num))"
   ]
  },
  {
   "cell_type": "code",
   "execution_count": 4,
   "id": "61a02b89-d926-465b-95ac-509d5ae87de0",
   "metadata": {},
   "outputs": [
    {
     "name": "stdout",
     "output_type": "stream",
     "text": [
      "Squares: [4, 16, 36, 64, 100]\n"
     ]
    }
   ],
   "source": [
    "#Q3 Implement a program where a UDF accepts a list of integers and returns the square of each integer in a new list using a list comprehension.\n",
    "\n",
    "def square_list(nums):\n",
    "    return [x**2 for x in nums]\n",
    "\n",
    "numbers = [2, 4, 6, 8, 10]\n",
    "print(\"Squares:\", square_list(numbers))"
   ]
  },
  {
   "cell_type": "code",
   "execution_count": 5,
   "id": "cc3ed00b-534c-45f2-bbb7-d6404a7ea0d8",
   "metadata": {},
   "outputs": [
    {
     "name": "stdin",
     "output_type": "stream",
     "text": [
      "Enter a string:  HELLLOO PYTHON\n"
     ]
    },
    {
     "name": "stdout",
     "output_type": "stream",
     "text": [
      "Character Frequency: {'H': 2, 'E': 1, 'L': 3, 'O': 3, ' ': 1, 'P': 1, 'Y': 1, 'T': 1, 'N': 1}\n"
     ]
    }
   ],
   "source": [
    "#Q4 Write a UDF that takes a string as input and returns the frequency of each character in the string as a dictionary.\n",
    "\n",
    "def char_frequency(s):\n",
    "    freq = {}\n",
    "    for ch in s:\n",
    "        freq[ch] = s.count(ch)\n",
    "    return freq\n",
    "\n",
    "text = input(\"Enter a string: \")\n",
    "print(\"Character Frequency:\", char_frequency(text))\n"
   ]
  },
  {
   "cell_type": "code",
   "execution_count": 6,
   "id": "9e536a79-9f0e-4289-a56c-e50e47a9ecf8",
   "metadata": {},
   "outputs": [
    {
     "name": "stdout",
     "output_type": "stream",
     "text": [
      "Cubes: [8, 27, 64, 125]\n"
     ]
    }
   ],
   "source": [
    "#Q5 Create a program that takes a user-defined function as an argument to calculate the cube of a list of numbers.\n",
    "\n",
    "def cube(n):\n",
    "    return n**3\n",
    "\n",
    "def apply_function(func, numbers):\n",
    "    result = []\n",
    "    for num in numbers:\n",
    "        result.append(func(num))\n",
    "    return result\n",
    "\n",
    "nums = [2, 3, 4, 5]\n",
    "print(\"Cubes:\", apply_function(cube, nums))"
   ]
  },
  {
   "cell_type": "code",
   "execution_count": 7,
   "id": "1254488a-068d-4800-93f3-21e813902ad1",
   "metadata": {},
   "outputs": [
    {
     "name": "stdout",
     "output_type": "stream",
     "text": [
      "(14, 120)\n"
     ]
    }
   ],
   "source": [
    "#Q6 Write a Python function that accepts an arbitrary number of integer arguments and returns their sum and product.\n",
    "\n",
    "def sum_and_product(*nums):\n",
    "    s = 0\n",
    "    p = 1\n",
    "    for n in nums:\n",
    "        s += n\n",
    "        p *= n\n",
    "    return s, p\n",
    "\n",
    "print(sum_and_product(2, 3, 4, 5))"
   ]
  },
  {
   "cell_type": "code",
   "execution_count": 10,
   "id": "62d0c1a5-3481-4ca9-a295-bee1540a3f64",
   "metadata": {},
   "outputs": [
    {
     "name": "stdout",
     "output_type": "stream",
     "text": [
      "Liam\n",
      "Krina\n",
      "Mansi\n",
      "No student names provided.\n"
     ]
    }
   ],
   "source": [
    "#Q7 Implement a function that takes a list of student names using *args and prints each name on a new line.\n",
    "#- Add functionality to check if the list is empty and display a suitable message.\n",
    "\n",
    "def print_students(*names):\n",
    "    if not names:\n",
    "        print(\"No student names provided.\")\n",
    "    else:\n",
    "        for name in names:\n",
    "            print(name)\n",
    "\n",
    "print_students(\"Liam\", \"Krina\", \"Mansi\")\n",
    "print_students()\n"
   ]
  },
  {
   "cell_type": "code",
   "execution_count": 16,
   "id": "1a9764b8-6b17-4f64-be4d-d10c1314ac1f",
   "metadata": {},
   "outputs": [],
   "source": [
    "#Q8 Develop a program where a UDF accepts *args and filters out the strings from the arguments.\n",
    "#- Return a tuple of filtered values (e.g., strings in one tuple, numbers in another)\n"
   ]
  },
  {
   "cell_type": "code",
   "execution_count": 11,
   "id": "c042f58a-564f-452a-b50e-e6f1edb18c5d",
   "metadata": {},
   "outputs": [
    {
     "name": "stdout",
     "output_type": "stream",
     "text": [
      "name: Krina\n",
      "age: 19\n",
      "city: Ahmedabad\n"
     ]
    }
   ],
   "source": [
    "#Q9 Write a function that accepts **kwargs to print out a formatted description of a person (e.g., name, age, city).\n",
    "\n",
    "def describe_person(**kwargs):\n",
    "    for key, value in kwargs.items():\n",
    "        print(f\"{key}: {value}\")\n",
    "\n",
    "describe_person(name=\"Krina\", age=19, city=\"Ahmedabad\")"
   ]
  },
  {
   "cell_type": "code",
   "execution_count": 13,
   "id": "f9f7ade7-117f-4b6f-b568-121273e9d3be",
   "metadata": {},
   "outputs": [
    {
     "name": "stdout",
     "output_type": "stream",
     "text": [
      "Product: Pen, Total Cost = 50\n"
     ]
    }
   ],
   "source": [
    "#Q10 Implement a function that accepts product details like name, price, and quantity using **kwargs.\n",
    "#- Return a formatted string showing the total cost of all products.\n",
    "\n",
    "def product_details(**kwargs):\n",
    "    total = kwargs[\"price\"] * kwargs[\"quantity\"]\n",
    "    return f\"Product: {kwargs['name']}, Total Cost = {total}\"\n",
    "\n",
    "print(product_details(name=\"Pen\", price=10, quantity=5))\n"
   ]
  },
  {
   "cell_type": "code",
   "execution_count": 14,
   "id": "40214462-5abe-4f6d-b039-cbaa0d7f559e",
   "metadata": {},
   "outputs": [
    {
     "name": "stdout",
     "output_type": "stream",
     "text": [
      "name: Krina\n",
      "department: IT\n",
      "salary: 40000\n",
      "Missing required field: department\n"
     ]
    }
   ],
   "source": [
    "#Q11 Develop a program that allows users to pass any combination of attributes for an employee (e.g., name, department, salary) using **kwargs.\n",
    "#- Check if any required fields are missing and print a message accordingly.\n",
    "\n",
    "def employee_details(**kwargs):\n",
    "    required = [\"name\", \"department\", \"salary\"]\n",
    "    for field in required:\n",
    "        if field not in kwargs:\n",
    "            print(f\"Missing required field: {field}\")\n",
    "            return\n",
    "    for key, value in kwargs.items():\n",
    "        print(f\"{key}: {value}\")\n",
    "\n",
    "employee_details(name=\"Krina\", department=\"IT\", salary=40000)\n",
    "employee_details(name=\"Mihir\", salary=35000)\n"
   ]
  },
  {
   "cell_type": "code",
   "execution_count": 15,
   "id": "72e6889a-3b3a-49c6-bb7e-0e09c5721d69",
   "metadata": {},
   "outputs": [
    {
     "name": "stdout",
     "output_type": "stream",
     "text": [
      "\n",
      "Calculates the area of a rectangle.\n",
      "\n",
      "Parameters:\n",
      "    length (int or float): The length of the rectangle.\n",
      "    width (int or float): The width of the rectangle.\n",
      "\n",
      "Returns:\n",
      "    int or float: The area of the rectangle.\n",
      "\n",
      "Area: 15\n"
     ]
    }
   ],
   "source": [
    "#Q12 Create a function that calculates the area of a rectangle.\n",
    "#- Add a ____doc___string to describe the function's purpose, parameters, and return type. - Write code to print the ___doc___ string.\n",
    "\n",
    "def rectangle_area(length, width):\n",
    "    \"\"\"\n",
    "    Calculates the area of a rectangle.\n",
    "\n",
    "    Parameters:\n",
    "        length (int or float): The length of the rectangle.\n",
    "        width (int or float): The width of the rectangle.\n",
    "\n",
    "    Returns:\n",
    "        int or float: The area of the rectangle.\n",
    "    \"\"\"\n",
    "    return length * width\n",
    "\n",
    "print(rectangle_area.__doc__)\n",
    "print(\"Area:\", rectangle_area(5, 3))\n"
   ]
  },
  {
   "cell_type": "code",
   "execution_count": null,
   "id": "e5fec0d0-7275-4153-bfc0-5baf7a4b99a0",
   "metadata": {},
   "outputs": [],
   "source": []
  }
 ],
 "metadata": {
  "kernelspec": {
   "display_name": "Python 3 (ipykernel)",
   "language": "python",
   "name": "python3"
  },
  "language_info": {
   "codemirror_mode": {
    "name": "ipython",
    "version": 3
   },
   "file_extension": ".py",
   "mimetype": "text/x-python",
   "name": "python",
   "nbconvert_exporter": "python",
   "pygments_lexer": "ipython3",
   "version": "3.13.5"
  }
 },
 "nbformat": 4,
 "nbformat_minor": 5
}
